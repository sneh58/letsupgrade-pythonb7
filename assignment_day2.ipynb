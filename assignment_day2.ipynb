{
  "nbformat": 4,
  "nbformat_minor": 0,
  "metadata": {
    "colab": {
      "name": "assignment day2",
      "provenance": [],
      "authorship_tag": "ABX9TyOHZynYmiHFnKMZNFI5LHEY",
      "include_colab_link": true
    },
    "kernelspec": {
      "name": "python3",
      "display_name": "Python 3"
    }
  },
  "cells": [
    {
      "cell_type": "markdown",
      "metadata": {
        "id": "view-in-github",
        "colab_type": "text"
      },
      "source": [
        "<a href=\"https://colab.research.google.com/github/sneh58/letsupgrade-pythonb7/blob/master/assignment_day2.ipynb\" target=\"_parent\"><img src=\"https://colab.research.google.com/assets/colab-badge.svg\" alt=\"Open In Colab\"/></a>"
      ]
    },
    {
      "cell_type": "markdown",
      "metadata": {
        "id": "y0PGKfY1dHFW",
        "colab_type": "text"
      },
      "source": [
        "Assignment Day2\n"
      ]
    },
    {
      "cell_type": "markdown",
      "metadata": {
        "id": "FLE3GVB-dVkq",
        "colab_type": "text"
      },
      "source": [
        "Question 1:List & it default functions\n"
      ]
    },
    {
      "cell_type": "code",
      "metadata": {
        "id": "gficTXlXdMFd",
        "colab_type": "code",
        "colab": {}
      },
      "source": [
        "lst=['laptop','computer','cpu','speaker']"
      ],
      "execution_count": null,
      "outputs": []
    },
    {
      "cell_type": "code",
      "metadata": {
        "id": "YnOVwMAJdnrF",
        "colab_type": "code",
        "colab": {
          "base_uri": "https://localhost:8080/",
          "height": 34
        },
        "outputId": "bd2e53bd-499d-4065-91f5-782836abac75"
      },
      "source": [
        "print(lst)"
      ],
      "execution_count": null,
      "outputs": [
        {
          "output_type": "stream",
          "text": [
            "['laptop', 'computer', 'cpu', 'speaker']\n"
          ],
          "name": "stdout"
        }
      ]
    },
    {
      "cell_type": "code",
      "metadata": {
        "id": "rwi3SjdTebQ4",
        "colab_type": "code",
        "colab": {}
      },
      "source": [
        "lst.append('mouse')"
      ],
      "execution_count": null,
      "outputs": []
    },
    {
      "cell_type": "code",
      "metadata": {
        "id": "N5BHAl3Kei3f",
        "colab_type": "code",
        "colab": {
          "base_uri": "https://localhost:8080/",
          "height": 34
        },
        "outputId": "fde58253-0b49-42c8-f2a3-8cfde1cc6943"
      },
      "source": [
        "print(lst)"
      ],
      "execution_count": null,
      "outputs": [
        {
          "output_type": "stream",
          "text": [
            "['laptop', 'computer', 'cpu', 'speaker', 'mouse']\n"
          ],
          "name": "stdout"
        }
      ]
    },
    {
      "cell_type": "code",
      "metadata": {
        "id": "EYu7YiLMenis",
        "colab_type": "code",
        "colab": {}
      },
      "source": [
        "lst.extend(\"cpu\")"
      ],
      "execution_count": null,
      "outputs": []
    },
    {
      "cell_type": "code",
      "metadata": {
        "id": "w_LWHUTeevl3",
        "colab_type": "code",
        "colab": {
          "base_uri": "https://localhost:8080/",
          "height": 34
        },
        "outputId": "d7eb3c6f-d6e7-471b-f693-2ebce62ad2f5"
      },
      "source": [
        "print(lst)"
      ],
      "execution_count": null,
      "outputs": [
        {
          "output_type": "stream",
          "text": [
            "['laptop', 'computer', 'cpu', 'speaker', 'mouse', 'c', 'p', 'u']\n"
          ],
          "name": "stdout"
        }
      ]
    },
    {
      "cell_type": "code",
      "metadata": {
        "id": "UrnObspsfGma",
        "colab_type": "code",
        "colab": {
          "base_uri": "https://localhost:8080/",
          "height": 34
        },
        "outputId": "b640c386-0dfa-409d-8430-f60821ee4fec"
      },
      "source": [
        "lst.index(\"computer\")"
      ],
      "execution_count": null,
      "outputs": [
        {
          "output_type": "execute_result",
          "data": {
            "text/plain": [
              "1"
            ]
          },
          "metadata": {
            "tags": []
          },
          "execution_count": 8
        }
      ]
    },
    {
      "cell_type": "code",
      "metadata": {
        "id": "jnTS31xyfQeY",
        "colab_type": "code",
        "colab": {
          "base_uri": "https://localhost:8080/",
          "height": 34
        },
        "outputId": "0021f207-1667-41ba-fa76-bed442cfdf02"
      },
      "source": [
        "print(lst)"
      ],
      "execution_count": null,
      "outputs": [
        {
          "output_type": "stream",
          "text": [
            "['laptop', 'computer', 'cpu', 'speaker', 'mouse', 'c', 'p', 'u']\n"
          ],
          "name": "stdout"
        }
      ]
    },
    {
      "cell_type": "code",
      "metadata": {
        "id": "73utc--IfWq8",
        "colab_type": "code",
        "colab": {}
      },
      "source": [
        "lst.insert(1,\"keyboard\")"
      ],
      "execution_count": null,
      "outputs": []
    },
    {
      "cell_type": "code",
      "metadata": {
        "id": "tKBYXxg4fgte",
        "colab_type": "code",
        "colab": {
          "base_uri": "https://localhost:8080/",
          "height": 34
        },
        "outputId": "d50aa5b2-b404-4e9a-90c8-46f140106753"
      },
      "source": [
        "print(lst)"
      ],
      "execution_count": null,
      "outputs": [
        {
          "output_type": "stream",
          "text": [
            "['laptop', 'keyboard', 'computer', 'cpu', 'speaker', 'mouse', 'c', 'p', 'u']\n"
          ],
          "name": "stdout"
        }
      ]
    },
    {
      "cell_type": "code",
      "metadata": {
        "id": "ivzXAg1sfmca",
        "colab_type": "code",
        "colab": {}
      },
      "source": [
        "lst.remove(\"keyboard\")"
      ],
      "execution_count": null,
      "outputs": []
    },
    {
      "cell_type": "code",
      "metadata": {
        "id": "JJLrp2PKfu2B",
        "colab_type": "code",
        "colab": {
          "base_uri": "https://localhost:8080/",
          "height": 34
        },
        "outputId": "ec215d26-bb33-4563-89e7-06f289593d08"
      },
      "source": [
        "print(lst)"
      ],
      "execution_count": null,
      "outputs": [
        {
          "output_type": "stream",
          "text": [
            "['laptop', 'computer', 'cpu', 'speaker', 'mouse', 'c', 'p', 'u']\n"
          ],
          "name": "stdout"
        }
      ]
    },
    {
      "cell_type": "code",
      "metadata": {
        "id": "tSNyMgKBf6Nx",
        "colab_type": "code",
        "colab": {
          "base_uri": "https://localhost:8080/",
          "height": 35
        },
        "outputId": "06ff9e99-43b1-4dc8-fec5-8873eef937a0"
      },
      "source": [
        "lst.pop(-1)"
      ],
      "execution_count": null,
      "outputs": [
        {
          "output_type": "execute_result",
          "data": {
            "application/vnd.google.colaboratory.intrinsic+json": {
              "type": "string"
            },
            "text/plain": [
              "'u'"
            ]
          },
          "metadata": {
            "tags": []
          },
          "execution_count": 14
        }
      ]
    },
    {
      "cell_type": "code",
      "metadata": {
        "id": "oySKw11Vf_Iq",
        "colab_type": "code",
        "colab": {}
      },
      "source": [
        "lst.reverse()"
      ],
      "execution_count": null,
      "outputs": []
    },
    {
      "cell_type": "code",
      "metadata": {
        "id": "QnWr1maYgEat",
        "colab_type": "code",
        "colab": {
          "base_uri": "https://localhost:8080/",
          "height": 34
        },
        "outputId": "6d433212-5c16-46b3-9145-26fd59c03961"
      },
      "source": [
        "print(lst)"
      ],
      "execution_count": null,
      "outputs": [
        {
          "output_type": "stream",
          "text": [
            "['p', 'c', 'mouse', 'speaker', 'cpu', 'computer', 'laptop']\n"
          ],
          "name": "stdout"
        }
      ]
    },
    {
      "cell_type": "code",
      "metadata": {
        "id": "GsDuweG2gPV-",
        "colab_type": "code",
        "colab": {}
      },
      "source": [
        "lst.sort()"
      ],
      "execution_count": null,
      "outputs": []
    },
    {
      "cell_type": "code",
      "metadata": {
        "id": "kFDjF8_JgTq_",
        "colab_type": "code",
        "colab": {
          "base_uri": "https://localhost:8080/",
          "height": 34
        },
        "outputId": "e90b3b7f-72af-468d-e006-2e6974ae0662"
      },
      "source": [
        "print(lst)"
      ],
      "execution_count": null,
      "outputs": [
        {
          "output_type": "stream",
          "text": [
            "['c', 'computer', 'cpu', 'laptop', 'mouse', 'p', 'speaker']\n"
          ],
          "name": "stdout"
        }
      ]
    },
    {
      "cell_type": "code",
      "metadata": {
        "id": "22mnEYJsgvDy",
        "colab_type": "code",
        "colab": {}
      },
      "source": [
        ""
      ],
      "execution_count": null,
      "outputs": []
    },
    {
      "cell_type": "markdown",
      "metadata": {
        "id": "EjAK0xlugvrB",
        "colab_type": "text"
      },
      "source": [
        "Question2: dictionary & its default functions"
      ]
    },
    {
      "cell_type": "code",
      "metadata": {
        "id": "guA0RL7_g7De",
        "colab_type": "code",
        "colab": {}
      },
      "source": [
        "dit={20:'FTP',23:'telnet',80:'web protocal',52:'DNS'}"
      ],
      "execution_count": null,
      "outputs": []
    },
    {
      "cell_type": "code",
      "metadata": {
        "id": "9MCzULYihPss",
        "colab_type": "code",
        "colab": {
          "base_uri": "https://localhost:8080/",
          "height": 34
        },
        "outputId": "9708269a-0d90-4fed-94ae-149ac205aa6a"
      },
      "source": [
        "dit.items()"
      ],
      "execution_count": null,
      "outputs": [
        {
          "output_type": "execute_result",
          "data": {
            "text/plain": [
              "dict_items([(20, 'FTP'), (23, 'telnet'), (80, 'web protocal'), (52, 'DNS')])"
            ]
          },
          "metadata": {
            "tags": []
          },
          "execution_count": 21
        }
      ]
    },
    {
      "cell_type": "code",
      "metadata": {
        "id": "dGS2T7jNhWiS",
        "colab_type": "code",
        "colab": {
          "base_uri": "https://localhost:8080/",
          "height": 34
        },
        "outputId": "3229b591-86fe-4c96-c283-bcf1e9eeb3a2"
      },
      "source": [
        "dit.keys()"
      ],
      "execution_count": null,
      "outputs": [
        {
          "output_type": "execute_result",
          "data": {
            "text/plain": [
              "dict_keys([20, 23, 80, 52])"
            ]
          },
          "metadata": {
            "tags": []
          },
          "execution_count": 22
        }
      ]
    },
    {
      "cell_type": "code",
      "metadata": {
        "id": "pZdhIk2zhbkR",
        "colab_type": "code",
        "colab": {
          "base_uri": "https://localhost:8080/",
          "height": 34
        },
        "outputId": "31c2d1bb-d342-4ea8-b904-a76c5e887f80"
      },
      "source": [
        "dit.values()"
      ],
      "execution_count": null,
      "outputs": [
        {
          "output_type": "execute_result",
          "data": {
            "text/plain": [
              "dict_values(['FTP', 'telnet', 'web protocal', 'DNS'])"
            ]
          },
          "metadata": {
            "tags": []
          },
          "execution_count": 23
        }
      ]
    },
    {
      "cell_type": "code",
      "metadata": {
        "id": "NwQhajIphkY1",
        "colab_type": "code",
        "colab": {
          "base_uri": "https://localhost:8080/",
          "height": 35
        },
        "outputId": "ecc26f74-2d39-4d98-b611-ac5a03c27280"
      },
      "source": [
        "dit.pop(52)"
      ],
      "execution_count": null,
      "outputs": [
        {
          "output_type": "execute_result",
          "data": {
            "application/vnd.google.colaboratory.intrinsic+json": {
              "type": "string"
            },
            "text/plain": [
              "'DNS'"
            ]
          },
          "metadata": {
            "tags": []
          },
          "execution_count": 24
        }
      ]
    },
    {
      "cell_type": "code",
      "metadata": {
        "id": "CRoh8dWmhr5x",
        "colab_type": "code",
        "colab": {
          "base_uri": "https://localhost:8080/",
          "height": 34
        },
        "outputId": "1581b234-1871-4346-a036-8d06b77d1d8c"
      },
      "source": [
        "print(dit)"
      ],
      "execution_count": null,
      "outputs": [
        {
          "output_type": "stream",
          "text": [
            "{20: 'FTP', 23: 'telnet', 80: 'web protocal'}\n"
          ],
          "name": "stdout"
        }
      ]
    },
    {
      "cell_type": "code",
      "metadata": {
        "id": "4xv3sVoHiOWB",
        "colab_type": "code",
        "colab": {}
      },
      "source": [
        "dict2={443:'HTTP',3306:'mysql'}"
      ],
      "execution_count": null,
      "outputs": []
    },
    {
      "cell_type": "code",
      "metadata": {
        "id": "iOf5rJvRibyW",
        "colab_type": "code",
        "colab": {}
      },
      "source": [
        "dit.update(dict2)"
      ],
      "execution_count": null,
      "outputs": []
    },
    {
      "cell_type": "code",
      "metadata": {
        "id": "ev9MlSEuioDQ",
        "colab_type": "code",
        "colab": {
          "base_uri": "https://localhost:8080/",
          "height": 34
        },
        "outputId": "845c830c-70a1-49cd-b958-8bff025c9ad3"
      },
      "source": [
        "print(dit)"
      ],
      "execution_count": null,
      "outputs": [
        {
          "output_type": "stream",
          "text": [
            "{20: 'FTP', 23: 'telnet', 80: 'web protocal', 443: 'HTTP', 3306: 'mysql'}\n"
          ],
          "name": "stdout"
        }
      ]
    },
    {
      "cell_type": "markdown",
      "metadata": {
        "id": "KvNSysVaiyB1",
        "colab_type": "text"
      },
      "source": [
        "Question 3:sets and its default functions"
      ]
    },
    {
      "cell_type": "code",
      "metadata": {
        "id": "q7f7v3wwi8_N",
        "colab_type": "code",
        "colab": {}
      },
      "source": [
        "fruits={\"apple\",\"banana\",\"cherry\"}"
      ],
      "execution_count": null,
      "outputs": []
    },
    {
      "cell_type": "code",
      "metadata": {
        "id": "xEJlpWnCjP_E",
        "colab_type": "code",
        "colab": {}
      },
      "source": [
        "fruits.add(\"orange\")"
      ],
      "execution_count": null,
      "outputs": []
    },
    {
      "cell_type": "code",
      "metadata": {
        "id": "BpcDXkbdjWSD",
        "colab_type": "code",
        "colab": {
          "base_uri": "https://localhost:8080/",
          "height": 34
        },
        "outputId": "f645e5f6-96c1-41b4-dbb3-255ca7ccc2e1"
      },
      "source": [
        "print(fruits)"
      ],
      "execution_count": null,
      "outputs": [
        {
          "output_type": "stream",
          "text": [
            "{'banana', 'cherry', 'apple', 'orange'}\n"
          ],
          "name": "stdout"
        }
      ]
    },
    {
      "cell_type": "code",
      "metadata": {
        "id": "-ofdrzMyjh1h",
        "colab_type": "code",
        "colab": {}
      },
      "source": [
        "company={\"google\",\"microsoft\",\"facebook\"}"
      ],
      "execution_count": null,
      "outputs": []
    },
    {
      "cell_type": "code",
      "metadata": {
        "id": "aDjd1DFtjuJJ",
        "colab_type": "code",
        "colab": {}
      },
      "source": [
        "set3=fruits.isdisjoint(company)"
      ],
      "execution_count": null,
      "outputs": []
    },
    {
      "cell_type": "code",
      "metadata": {
        "id": "SOYYjMgdj71v",
        "colab_type": "code",
        "colab": {
          "base_uri": "https://localhost:8080/",
          "height": 34
        },
        "outputId": "1f6dd7b9-080e-46ac-9bda-fc13146517bf"
      },
      "source": [
        "print(set3)"
      ],
      "execution_count": null,
      "outputs": [
        {
          "output_type": "stream",
          "text": [
            "True\n"
          ],
          "name": "stdout"
        }
      ]
    },
    {
      "cell_type": "code",
      "metadata": {
        "id": "m9vLKu6ykG2F",
        "colab_type": "code",
        "colab": {}
      },
      "source": [
        "x={\"a\",\"b\",\"c\"}"
      ],
      "execution_count": null,
      "outputs": []
    },
    {
      "cell_type": "code",
      "metadata": {
        "id": "swuPyCuSkOvL",
        "colab_type": "code",
        "colab": {}
      },
      "source": [
        "y={\"f\",\"e\",\"d\",\"c\",\"b\",\"a\"}"
      ],
      "execution_count": null,
      "outputs": []
    },
    {
      "cell_type": "code",
      "metadata": {
        "id": "jRCvNrOxkaRx",
        "colab_type": "code",
        "colab": {}
      },
      "source": [
        "z=x.issubset(y)"
      ],
      "execution_count": null,
      "outputs": []
    },
    {
      "cell_type": "code",
      "metadata": {
        "id": "BiLPEGlpitLu",
        "colab_type": "code",
        "colab": {
          "base_uri": "https://localhost:8080/",
          "height": 34
        },
        "outputId": "b04e7108-e381-43f0-bedc-82df9dc513ce"
      },
      "source": [
        "print(z)"
      ],
      "execution_count": null,
      "outputs": [
        {
          "output_type": "stream",
          "text": [
            "True\n"
          ],
          "name": "stdout"
        }
      ]
    },
    {
      "cell_type": "code",
      "metadata": {
        "id": "ZS8FVE6fkmWM",
        "colab_type": "code",
        "colab": {}
      },
      "source": [
        "fruits.remove(\"cherry\")"
      ],
      "execution_count": null,
      "outputs": []
    },
    {
      "cell_type": "code",
      "metadata": {
        "id": "urSWMmsYkszJ",
        "colab_type": "code",
        "colab": {
          "base_uri": "https://localhost:8080/",
          "height": 34
        },
        "outputId": "5ec1d1fa-406e-4983-9ee2-cdec0417ff7e"
      },
      "source": [
        "print(fruits)"
      ],
      "execution_count": null,
      "outputs": [
        {
          "output_type": "stream",
          "text": [
            "{'banana', 'apple', 'orange'}\n"
          ],
          "name": "stdout"
        }
      ]
    },
    {
      "cell_type": "code",
      "metadata": {
        "id": "SmqDx1HDkyWJ",
        "colab_type": "code",
        "colab": {}
      },
      "source": [
        "set3=fruits.union(company)"
      ],
      "execution_count": null,
      "outputs": []
    },
    {
      "cell_type": "code",
      "metadata": {
        "id": "fvBCXUuMk6fG",
        "colab_type": "code",
        "colab": {
          "base_uri": "https://localhost:8080/",
          "height": 34
        },
        "outputId": "76049b56-1d21-4284-f15d-e8d8329d175f"
      },
      "source": [
        "print(set3)"
      ],
      "execution_count": null,
      "outputs": [
        {
          "output_type": "stream",
          "text": [
            "{'banana', 'apple', 'microsoft', 'orange', 'facebook', 'google'}\n"
          ],
          "name": "stdout"
        }
      ]
    },
    {
      "cell_type": "markdown",
      "metadata": {
        "id": "VLuLCYvBlCLH",
        "colab_type": "text"
      },
      "source": [
        "Question 4:Tuple and explore default methods"
      ]
    },
    {
      "cell_type": "code",
      "metadata": {
        "id": "MNxx0CPilJVQ",
        "colab_type": "code",
        "colab": {}
      },
      "source": [
        "tup=(1,3,7,8,7,5,4,6,8,5)"
      ],
      "execution_count": null,
      "outputs": []
    },
    {
      "cell_type": "code",
      "metadata": {
        "id": "KR6Vpn8VlWMn",
        "colab_type": "code",
        "colab": {}
      },
      "source": [
        "x=tup.count(5)"
      ],
      "execution_count": null,
      "outputs": []
    },
    {
      "cell_type": "code",
      "metadata": {
        "id": "wHLK8iLTlaBc",
        "colab_type": "code",
        "colab": {
          "base_uri": "https://localhost:8080/",
          "height": 34
        },
        "outputId": "bb242502-353a-4175-9575-ea26e77ff48a"
      },
      "source": [
        "print(x)"
      ],
      "execution_count": null,
      "outputs": [
        {
          "output_type": "stream",
          "text": [
            "2\n"
          ],
          "name": "stdout"
        }
      ]
    },
    {
      "cell_type": "code",
      "metadata": {
        "id": "o3mC0zk-le8y",
        "colab_type": "code",
        "colab": {}
      },
      "source": [
        "x=tup.index(8)"
      ],
      "execution_count": null,
      "outputs": []
    },
    {
      "cell_type": "code",
      "metadata": {
        "id": "v5kN_CV6lAUM",
        "colab_type": "code",
        "colab": {
          "base_uri": "https://localhost:8080/",
          "height": 34
        },
        "outputId": "cfb872ba-6866-4aca-fb20-4d5241b2fcce"
      },
      "source": [
        "print(x)"
      ],
      "execution_count": null,
      "outputs": [
        {
          "output_type": "stream",
          "text": [
            "3\n"
          ],
          "name": "stdout"
        }
      ]
    },
    {
      "cell_type": "markdown",
      "metadata": {
        "id": "ZAnZs4aplv6Y",
        "colab_type": "text"
      },
      "source": [
        "Question 5: String & explore default methods"
      ]
    },
    {
      "cell_type": "code",
      "metadata": {
        "id": "5K5yqOxElu1l",
        "colab_type": "code",
        "colab": {}
      },
      "source": [
        "txt=\"hello python\""
      ],
      "execution_count": null,
      "outputs": []
    },
    {
      "cell_type": "code",
      "metadata": {
        "id": "sjwbG1ePnBEg",
        "colab_type": "code",
        "colab": {}
      },
      "source": [
        "x=txt.capitalize()"
      ],
      "execution_count": null,
      "outputs": []
    },
    {
      "cell_type": "code",
      "metadata": {
        "id": "TmYt0lOgnHN9",
        "colab_type": "code",
        "colab": {
          "base_uri": "https://localhost:8080/",
          "height": 34
        },
        "outputId": "52479622-27ba-41b8-d4b4-9e82e56ab947"
      },
      "source": [
        "print(x)"
      ],
      "execution_count": null,
      "outputs": [
        {
          "output_type": "stream",
          "text": [
            "Hello python\n"
          ],
          "name": "stdout"
        }
      ]
    },
    {
      "cell_type": "code",
      "metadata": {
        "id": "7Dd6LOlwnnss",
        "colab_type": "code",
        "colab": {}
      },
      "source": [
        "txt=\"company\""
      ],
      "execution_count": null,
      "outputs": []
    },
    {
      "cell_type": "code",
      "metadata": {
        "id": "mZIb0zX5oGiQ",
        "colab_type": "code",
        "colab": {}
      },
      "source": [
        "x=txt.isalpha()"
      ],
      "execution_count": null,
      "outputs": []
    },
    {
      "cell_type": "code",
      "metadata": {
        "id": "SzRkqvp8oMNg",
        "colab_type": "code",
        "colab": {
          "base_uri": "https://localhost:8080/",
          "height": 34
        },
        "outputId": "24a40947-f3d3-4446-d079-1436a9bd56f8"
      },
      "source": [
        "print(x)"
      ],
      "execution_count": null,
      "outputs": [
        {
          "output_type": "stream",
          "text": [
            "True\n"
          ],
          "name": "stdout"
        }
      ]
    },
    {
      "cell_type": "code",
      "metadata": {
        "id": "eFcSGP0noPTk",
        "colab_type": "code",
        "colab": {}
      },
      "source": [
        "x=txt.isalnum()"
      ],
      "execution_count": null,
      "outputs": []
    },
    {
      "cell_type": "code",
      "metadata": {
        "id": "X-v75RAFoUuo",
        "colab_type": "code",
        "colab": {
          "base_uri": "https://localhost:8080/",
          "height": 34
        },
        "outputId": "e4860c9d-5194-44a3-ba0f-cfd27a5eb08a"
      },
      "source": [
        "print(x)"
      ],
      "execution_count": null,
      "outputs": [
        {
          "output_type": "stream",
          "text": [
            "True\n"
          ],
          "name": "stdout"
        }
      ]
    },
    {
      "cell_type": "code",
      "metadata": {
        "id": "B5etMd9XoYyu",
        "colab_type": "code",
        "colab": {}
      },
      "source": [
        "txt=\"hello world\""
      ],
      "execution_count": null,
      "outputs": []
    },
    {
      "cell_type": "code",
      "metadata": {
        "id": "zZHkIckMofhy",
        "colab_type": "code",
        "colab": {}
      },
      "source": [
        "x=txt.islower()"
      ],
      "execution_count": null,
      "outputs": []
    },
    {
      "cell_type": "code",
      "metadata": {
        "id": "XlaijIdmojxW",
        "colab_type": "code",
        "colab": {
          "base_uri": "https://localhost:8080/",
          "height": 34
        },
        "outputId": "701f2b13-374c-4fb9-ce09-963989535e3d"
      },
      "source": [
        "print(x)"
      ],
      "execution_count": null,
      "outputs": [
        {
          "output_type": "stream",
          "text": [
            "True\n"
          ],
          "name": "stdout"
        }
      ]
    },
    {
      "cell_type": "code",
      "metadata": {
        "id": "8mdVkG1Vopma",
        "colab_type": "code",
        "colab": {}
      },
      "source": [
        "x=txt.isupper()"
      ],
      "execution_count": null,
      "outputs": []
    },
    {
      "cell_type": "code",
      "metadata": {
        "id": "fG-Qko6Kovp2",
        "colab_type": "code",
        "colab": {
          "base_uri": "https://localhost:8080/",
          "height": 34
        },
        "outputId": "3c118e0b-a766-4e02-e294-5db1fec51f21"
      },
      "source": [
        "print(x)"
      ],
      "execution_count": null,
      "outputs": [
        {
          "output_type": "stream",
          "text": [
            "False\n"
          ],
          "name": "stdout"
        }
      ]
    },
    {
      "cell_type": "code",
      "metadata": {
        "id": "uGIFD4yzpf_a",
        "colab_type": "code",
        "colab": {}
      },
      "source": [
        "txt=\"welcome to python\""
      ],
      "execution_count": null,
      "outputs": []
    },
    {
      "cell_type": "code",
      "metadata": {
        "id": "jVGmN5z6pvRc",
        "colab_type": "code",
        "colab": {}
      },
      "source": [
        "x=txt.split()"
      ],
      "execution_count": null,
      "outputs": []
    },
    {
      "cell_type": "code",
      "metadata": {
        "id": "wAUUYajypzTN",
        "colab_type": "code",
        "colab": {
          "base_uri": "https://localhost:8080/",
          "height": 34
        },
        "outputId": "971b6270-166e-43db-f1d7-08f531913a19"
      },
      "source": [
        "print(x)"
      ],
      "execution_count": null,
      "outputs": [
        {
          "output_type": "stream",
          "text": [
            "['welcome', 'to', 'python']\n"
          ],
          "name": "stdout"
        }
      ]
    },
    {
      "cell_type": "code",
      "metadata": {
        "id": "EH-kp4JUvzhs",
        "colab_type": "code",
        "colab": {}
      },
      "source": [
        ""
      ],
      "execution_count": null,
      "outputs": []
    }
  ]
}